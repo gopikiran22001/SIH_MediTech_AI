{
  "nbformat": 4,
  "nbformat_minor": 0,
  "metadata": {
    "colab": {
      "provenance": []
    },
    "kernelspec": {
      "name": "python3",
      "display_name": "Python 3"
    },
    "language_info": {
      "name": "python"
    }
  },
  "cells": [
    {
      "cell_type": "code",
      "execution_count": 13,
      "metadata": {
        "colab": {
          "base_uri": "https://localhost:8080/"
        },
        "id": "22UPoDhL5tEC",
        "outputId": "d06040da-5eac-4854-df46-dcef7667e006"
      },
      "outputs": [
        {
          "output_type": "stream",
          "name": "stdout",
          "text": [
            "                  precision    recall  f1-score   support\n",
            "\n",
            "      Cardiology       1.00      1.00      1.00      7975\n",
            "     Dermatology       1.00      1.00      1.00      5986\n",
            "General Medicine       1.00      1.00      1.00      6039\n",
            "\n",
            "        accuracy                           1.00     20000\n",
            "       macro avg       1.00      1.00      1.00     20000\n",
            "    weighted avg       1.00      1.00      1.00     20000\n",
            "\n",
            "Model and vectorizer saved to doctor_recommendation.joblib\n"
          ]
        }
      ],
      "source": [
        "import pandas as pd\n",
        "import joblib\n",
        "from sklearn.feature_extraction.text import TfidfVectorizer\n",
        "from sklearn.ensemble import RandomForestClassifier\n",
        "from sklearn.model_selection import train_test_split\n",
        "from sklearn.metrics import classification_report\n",
        "\n",
        "MODEL_FILE = \"doctor_recommendation.joblib\"  # changed to .joblib\n",
        "\n",
        "def train_model(df):\n",
        "    X, y = df[\"symptoms_text\"].values, df[\"label\"].values\n",
        "    tfidf = TfidfVectorizer()\n",
        "    X = tfidf.fit_transform(X)\n",
        "    clf = RandomForestClassifier()\n",
        "    Xtr, Xte, ytr, yte = train_test_split(X, y, test_size=0.2)\n",
        "    clf.fit(Xtr, ytr)\n",
        "    print(classification_report(yte, clf.predict(Xte)))\n",
        "    # Save both classifier and vectorizer as a single joblib file\n",
        "    joblib.dump((clf, tfidf), MODEL_FILE, compress=3)\n",
        "    print(f\"Model and vectorizer saved to {MODEL_FILE}\")\n",
        "    return clf, tfidf\n",
        "\n",
        "if __name__ == \"__main__\":\n",
        "    # Load your CSV dataset\n",
        "    df = pd.read_csv(\"/content/large_doctor_data.csv\")\n",
        "\n",
        "    # Train model and save locally\n",
        "    train_model(df)\n"
      ]
    },
    {
      "cell_type": "code",
      "source": [
        "import pandas as pd\n",
        "import joblib\n",
        "from sklearn.ensemble import GradientBoostingClassifier\n",
        "from sklearn.model_selection import train_test_split\n",
        "from sklearn.metrics import classification_report\n",
        "\n",
        "MODEL_FILE = \"risk_assessment.joblib\"\n",
        "\n",
        "def train_model(df):\n",
        "    X = df[[\"age\", \"chest\", \"sob\"]].values\n",
        "    y = (df[\"label\"] == \"high\").astype(int).values  # Convert label to 0/1\n",
        "    clf = GradientBoostingClassifier()\n",
        "    Xtr, Xte, ytr, yte = train_test_split(X, y, test_size=0.2)\n",
        "    clf.fit(Xtr, ytr)\n",
        "    print(classification_report(yte, clf.predict(Xte)))\n",
        "    joblib.dump(clf, MODEL_FILE)\n",
        "    print(f\"Risk assessment model saved to {MODEL_FILE}\")\n",
        "    return clf\n",
        "\n",
        "if __name__ == \"__main__\":\n",
        "    df = pd.read_csv(\"/content/large_risk_data.csv\")\n",
        "    print(\"Columns in dataset:\", df.columns)\n",
        "    print(df.head())\n",
        "    train_model(df)\n"
      ],
      "metadata": {
        "colab": {
          "base_uri": "https://localhost:8080/"
        },
        "id": "sxhASkb-7nSh",
        "outputId": "6431806f-357e-45de-c7d0-1cd2dd235b08"
      },
      "execution_count": 12,
      "outputs": [
        {
          "output_type": "stream",
          "name": "stdout",
          "text": [
            "Columns in dataset: Index(['age', 'chest', 'sob', 'label'], dtype='object')\n",
            "   age  chest  sob label\n",
            "0   25      0    0   low\n",
            "1   66      0    0   low\n",
            "2   51      0    0   low\n",
            "3   78      0    0   low\n",
            "4   50      1    0   low\n",
            "              precision    recall  f1-score   support\n",
            "\n",
            "           0       1.00      1.00      1.00     18017\n",
            "           1       1.00      1.00      1.00      1983\n",
            "\n",
            "    accuracy                           1.00     20000\n",
            "   macro avg       1.00      1.00      1.00     20000\n",
            "weighted avg       1.00      1.00      1.00     20000\n",
            "\n",
            "Risk assessment model saved to risk_assessment.joblib\n"
          ]
        }
      ]
    },
    {
      "cell_type": "code",
      "source": [
        "import pandas as pd\n",
        "import joblib\n",
        "from sklearn.pipeline import Pipeline\n",
        "from sklearn.feature_extraction.text import TfidfVectorizer\n",
        "from sklearn.linear_model import LogisticRegression\n",
        "from sklearn.model_selection import train_test_split\n",
        "from sklearn.metrics import classification_report\n",
        "\n",
        "MODEL_FILE = \"symptom_analyzer.joblib\"\n",
        "\n",
        "def symptoms_to_text(symptoms):\n",
        "    return \" \".join(symptoms)\n",
        "\n",
        "def train_model(df):\n",
        "    X, y = df[\"symptoms_text\"].values, df[\"label\"].values\n",
        "    pipeline = Pipeline([\n",
        "        (\"tfidf\", TfidfVectorizer()),\n",
        "        (\"clf\", LogisticRegression(max_iter=1000))\n",
        "    ])\n",
        "    Xtr, Xte, ytr, yte = train_test_split(X, y, test_size=0.2)\n",
        "    pipeline.fit(Xtr, ytr)\n",
        "    print(classification_report(yte, pipeline.predict(Xte)))\n",
        "    joblib.dump(pipeline, MODEL_FILE, compress=3)\n",
        "    print(f\"Symptom Analyzer model saved to {MODEL_FILE}\")\n",
        "    return pipeline\n",
        "\n",
        "if __name__ == \"__main__\":\n",
        "    # Load your dataset\n",
        "    df = pd.read_csv(\"/content/large_symptom_data.csv\")\n",
        "    print(df.head())\n",
        "\n",
        "    # Train model and save as joblib\n",
        "    train_model(df)\n"
      ],
      "metadata": {
        "colab": {
          "base_uri": "https://localhost:8080/"
        },
        "id": "m1jM4OUz8pN3",
        "outputId": "fba19c2a-e84a-4174-a322-a1ed98fbd30f"
      },
      "execution_count": 15,
      "outputs": [
        {
          "output_type": "stream",
          "name": "stdout",
          "text": [
            "                          symptoms_text            label\n",
            "0              nausea light sensitivity         Migraine\n",
            "1                              headache         Migraine\n",
            "2  nausea shortness of breath dizziness    Cardiac Event\n",
            "3                           cough fever  Viral Infection\n",
            "4           light sensitivity dizziness         Migraine\n",
            "                     precision    recall  f1-score   support\n",
            "\n",
            "Allergic Dermatitis       1.00      1.00      1.00      3086\n",
            "      Cardiac Event       1.00      0.78      0.88      1006\n",
            "           Migraine       0.95      1.00      0.97      3950\n",
            "    Viral Infection       1.00      1.00      1.00     11958\n",
            "\n",
            "           accuracy                           0.99     20000\n",
            "          macro avg       0.99      0.95      0.96     20000\n",
            "       weighted avg       0.99      0.99      0.99     20000\n",
            "\n",
            "Symptom Analyzer model saved to symptom_analyzer.joblib\n"
          ]
        }
      ]
    }
  ]
}